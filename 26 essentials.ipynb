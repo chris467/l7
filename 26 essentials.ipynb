{
 "cells": [
  {
   "cell_type": "markdown",
   "metadata": {},
   "source": [
    "# Reference for doing linear algebra with `numpy`"
   ]
  },
  {
   "cell_type": "code",
   "execution_count": null,
   "metadata": {},
   "outputs": [],
   "source": [
    "import numpy as np"
   ]
  },
  {
   "cell_type": "markdown",
   "metadata": {},
   "source": [
    "### Constructing random matrices or vectors"
   ]
  },
  {
   "cell_type": "code",
   "execution_count": null,
   "metadata": {},
   "outputs": [],
   "source": [
    "m, n = 3, 4\n",
    "u = np.random.randn(n)  # random n-dimensional vector\n",
    "v = np.random.randn(n)  # another random n-dimensional vector\n",
    "A = np.random.randn(m, n)  # random m x n matrix\n",
    "B = np.random.randn(n, n)  # random n x n matrix"
   ]
  },
  {
   "cell_type": "markdown",
   "metadata": {},
   "source": [
    "### Matrix transpose"
   ]
  },
  {
   "cell_type": "code",
   "execution_count": null,
   "metadata": {},
   "outputs": [],
   "source": [
    "At = A.T  # matrix transpose\n",
    "print(A.shape)\n",
    "print(At.shape)"
   ]
  },
  {
   "cell_type": "markdown",
   "metadata": {},
   "source": [
    "### Vector norms"
   ]
  },
  {
   "cell_type": "code",
   "execution_count": null,
   "metadata": {},
   "outputs": [],
   "source": [
    "np.linalg.norm(v, ord=1)  # L1 norm\n",
    "np.linalg.norm(v, ord=2)  # L2 norm\n",
    "np.linalg.norm(v, ord=np.inf)  # L-infinity norm"
   ]
  },
  {
   "cell_type": "markdown",
   "metadata": {},
   "source": [
    "### Dot product, matrix-vector multiplication, matrix-matrix multiplication"
   ]
  },
  {
   "cell_type": "code",
   "execution_count": null,
   "metadata": {},
   "outputs": [],
   "source": [
    "np.dot(u, v)  # dot product\n",
    "np.dot(A, v)  # matrix-vector multiplication\n",
    "np.dot(A, B)  # matrix-matrix multiplication"
   ]
  },
  {
   "cell_type": "code",
   "execution_count": null,
   "metadata": {},
   "outputs": [],
   "source": [
    "# Another ways of doing the same thing\n",
    "u.dot(v)  # dot product\n",
    "A.dot(v)  # matrix-vector multiplication\n",
    "A.dot(B)  # matrix-matrix multiplication"
   ]
  },
  {
   "cell_type": "code",
   "execution_count": null,
   "metadata": {},
   "outputs": [],
   "source": [
    "# Another ways of doing the same thing\n",
    "u @ v  # dot product\n",
    "A @ v  # matrix-vector multiplication\n",
    "A @ B  # matrix-matrix multiplication"
   ]
  },
  {
   "cell_type": "markdown",
   "metadata": {},
   "source": [
    "### Matrix inverse, identity matrix"
   ]
  },
  {
   "cell_type": "code",
   "execution_count": null,
   "metadata": {},
   "outputs": [],
   "source": [
    "Binv = np.linalg.inv(B)  # matrix inverse (N.B. only defined for square matrices!!)\n",
    "np.eye(n)  # n x n identity matrix"
   ]
  },
  {
   "cell_type": "markdown",
   "metadata": {},
   "source": [
    "### Eigenvectors and eigenvalues"
   ]
  },
  {
   "cell_type": "code",
   "execution_count": null,
   "metadata": {},
   "outputs": [],
   "source": [
    "eigvals, eigvecs = np.linalg.eig(B)  # matrix eigenvalues and eigenvectors (N.B. only defined for square matrices!!)\n",
    "print(eigvals.shape)  # vector of eigenvalues\n",
    "print(eigvecs.shape)  # matrix with eigenvectors in its columns"
   ]
  }
 ],
 "metadata": {
  "kernelspec": {
   "display_name": "Python 3 (ipykernel)",
   "language": "python",
   "name": "python3"
  },
  "language_info": {
   "codemirror_mode": {
    "name": "ipython",
    "version": 3
   },
   "file_extension": ".py",
   "mimetype": "text/x-python",
   "name": "python",
   "nbconvert_exporter": "python",
   "pygments_lexer": "ipython3",
   "version": "3.10.3"
  }
 },
 "nbformat": 4,
 "nbformat_minor": 4
}
